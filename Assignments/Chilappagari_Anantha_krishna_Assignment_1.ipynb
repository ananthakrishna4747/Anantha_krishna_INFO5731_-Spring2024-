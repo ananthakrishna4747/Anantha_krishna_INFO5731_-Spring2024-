{
  "cells": [
    {
      "cell_type": "markdown",
      "metadata": {
        "id": "view-in-github",
        "colab_type": "text"
      },
      "source": [
        "<a href=\"https://colab.research.google.com/github/ananthakrishna4747/Anantha_krishna_INFO5731_-Spring2024-/blob/main/Assignments/Chilappagari_Anantha_krishna_Assignment_1.ipynb\" target=\"_parent\"><img src=\"https://colab.research.google.com/assets/colab-badge.svg\" alt=\"Open In Colab\"/></a>"
      ]
    },
    {
      "cell_type": "markdown",
      "metadata": {
        "id": "Ryk8D1Q4Wsrp"
      },
      "source": [
        "# **INFO5731 Assignment One**"
      ]
    },
    {
      "cell_type": "markdown",
      "source": [
        "This assignment includes range of programming tasks and data analysis exercises, aiming to enhance your Python skills and proficiency in string manipulation, numerical computations, and data science. Follow the instructions carefully and design well-structured Python programs to address each question.\n",
        "\n",
        "Late Submission will have a penalty of 10% reduction for each day after the deadline."
      ],
      "metadata": {
        "id": "qcP6re2g5A5r"
      }
    },
    {
      "cell_type": "markdown",
      "metadata": {
        "id": "JkzR8cFAyGik"
      },
      "source": [
        "# Question 1 (10 points).\n",
        "\n",
        "The formula that describes the volume V of a hemisphere with radius r is the following:\n",
        "\n",
        "$ V=\\frac{2}{3}\\ast\\ \\pi\\ast\\ r^3 $\n",
        "\n",
        "Write a program to calculate the value of V when r is in the range of even numbers from 1-20. Output the result in the following format:\n",
        "\n",
        "\tr\tV\n",
        "\t2\t…\n",
        "\t4\t…\n",
        "\t6\t…\n",
        "\t.\n",
        "\t.\n",
        "\t.\n",
        "\t20\t…\n"
      ]
    },
    {
      "cell_type": "code",
      "execution_count": 2,
      "metadata": {
        "id": "jDyTKYs-yGit",
        "colab": {
          "base_uri": "https://localhost:8080/"
        },
        "outputId": "7da6af44-573b-4869-cba4-2483391d2149"
      },
      "outputs": [
        {
          "output_type": "stream",
          "name": "stdout",
          "text": [
            "r    V\n",
            "2    16.755160819145562\n",
            "4    134.0412865531645\n",
            "6    452.38934211693015\n",
            "8    1072.330292425316\n",
            "10    2094.3951023931954\n",
            "12    3619.114736935441\n",
            "14    5747.0201609669275\n",
            "16    8578.642339402528\n",
            "18    12214.512237157114\n",
            "20    16755.160819145563\n"
          ]
        }
      ],
      "source": [
        "# Your code here\n",
        "import math\n",
        "\n",
        "def volume(r):\n",
        "    return (2/3) * math.pi * r**3\n",
        "\n",
        "print(\"r    V\")\n",
        "\n",
        "for r in range(2, 21, 2):\n",
        "    vol = volume(r)\n",
        "    print(f\"{r}    {vol}\")\n",
        "\n"
      ]
    },
    {
      "cell_type": "markdown",
      "metadata": {
        "id": "90_NR8c5XGWc"
      },
      "source": [
        "# Question 2 (20 points)\n",
        "\n",
        "(a) Write a Python program to generate a sequence of 12 random numbers falling within the range of 50 to 150.\n",
        "\n",
        "(b) Arrange the generated numbers in ascending order. Display the sorted list.\n",
        "\n",
        "(c) Extend the program to arrange the numbers in descending order as well. Present the sorted list accordingly.\n",
        "\n",
        "(d) Compute and output the average of the entire group of generated numbers.\n",
        "\n",
        "(e) Enhance the program to calculate and display the average of the first 6 numbers from both the ascending and descending sorted lists."
      ]
    },
    {
      "cell_type": "code",
      "execution_count": 5,
      "metadata": {
        "id": "5QX6bJjGWXY9",
        "colab": {
          "base_uri": "https://localhost:8080/"
        },
        "outputId": "8817e731-8757-4cf1-8d45-bb81f7bac782"
      },
      "outputs": [
        {
          "output_type": "stream",
          "name": "stdout",
          "text": [
            "Generated: [59, 68, 138, 135, 65, 149, 85, 121, 114, 68, 58, 79]\n",
            "Ascending Sorted Numbers: [58, 59, 65, 68, 68, 79, 85, 114, 121, 135, 138, 149]\n",
            "Descending Sorted Numbers: [149, 138, 135, 121, 114, 85, 79, 68, 68, 65, 59, 58]\n",
            "Overall Average: 94.92\n",
            "Ascending Sorted Numbers: [58, 59, 65, 68, 68, 79, 85, 114, 121, 135, 138, 149]\n",
            "Asc Sorted First 6 Average: 94.92\n",
            "Descending Sorted Numbers: [149, 138, 135, 121, 114, 85, 79, 68, 68, 65, 59, 58]\n",
            "Desc Sorted First 6 Average: 94.92\n"
          ]
        }
      ],
      "source": [
        "import random\n",
        "\n",
        "class RandomNumbers:\n",
        "    def __init__(self, count, lower_limit, upper_limit):\n",
        "        self.count = count\n",
        "        self.lower_limit = lower_limit\n",
        "        self.upper_limit = upper_limit\n",
        "        self.numbers = self.generate_random_numbers()\n",
        "\n",
        "    def generate_random_numbers(self):\n",
        "        return [random.randint(self.lower_limit, self.upper_limit) for _ in range(self.count)]\n",
        "\n",
        "    def display_num(self, heading):\n",
        "        print(f\"{heading}: {self.numbers}\")\n",
        "\n",
        "    def sort_num(self, ascending=True):\n",
        "        self.numbers.sort(reverse=not ascending)\n",
        "\n",
        "    def calc_avg(self):\n",
        "        return sum(self.numbers) / len(self.numbers)\n",
        "\n",
        "    def display_avg(self, title):\n",
        "        average = self.calc_avg()\n",
        "        print(f\"{title} Average: {average:.2f}\")\n",
        "\n",
        "    def display_sorted_num(self, order):\n",
        "        order_str = \"Ascending\" if order == \"asc\" else \"Descending\"\n",
        "        self.sort_num(order == \"asc\")\n",
        "        self.display_num(f\"{order_str} Sorted Numbers\")  # Fix the method name here\n",
        "\n",
        "\n",
        "\n",
        "random_numbers = RandomNumbers(count=12, lower_limit=50, upper_limit=150)\n",
        "random_numbers.display_num(\"Generated\")\n",
        "\n",
        "random_numbers.display_sorted_num(order=\"asc\")\n",
        "\n",
        "random_numbers.display_sorted_num(order=\"desc\")\n",
        "\n",
        "random_numbers.display_avg(\"Overall\")\n",
        "\n",
        "random_numbers.display_sorted_num(order=\"asc\")\n",
        "random_numbers.display_avg(\"Asc Sorted First 6\")\n",
        "\n",
        "random_numbers.display_sorted_num(order=\"desc\")\n",
        "random_numbers.display_avg(\"Desc Sorted First 6\")\n"
      ]
    },
    {
      "cell_type": "markdown",
      "metadata": {
        "id": "1F_PZdH9Sh49"
      },
      "source": [
        "# Question 3 (20 points).\n",
        "\n",
        "Create a Python program that encompasses various string manipulation task:\n",
        "\n",
        "(a) Prompt the user to input two sentences.\n",
        "\n",
        "(b) Transform each sentence into a list, where each element corresponds to a word in the sentence. For example, if the sentences are \"Hello, how are you doing today?\" and \"This is an example sentence for the program!\"\n",
        "\n",
        "The program should output:\n",
        "['Hello', ',', 'how', 'are', 'you', 'doing', 'today', '?', 'This', 'is', 'an', 'example', 'sentence', 'for', 'the', 'program', '!']\n",
        "\n",
        "(c) Compare the two sentences. Print out a list of words that occur in both sentences.\n",
        "\n",
        "(d) Remove any punctuation from the sentence and print the sanitized sentences. It should remove at least the following characters, but it can remove more: period(“.”), comma (“,”), semicolon (“;”), and colon (“:”).\n",
        "\n",
        "(e) Count the number of vowels in each of the sentences. Print out each vowel and the occurrences  in the each of the two sentences separately, such as:\n",
        "\n",
        "Sentence1: a:2, e:2, i:0, etc.\n",
        "Sentence2: a:1, e:2, i:2, etc.\n",
        "\n",
        "Design a well-structured Python program to execute these tasks efficiently."
      ]
    },
    {
      "cell_type": "code",
      "execution_count": 16,
      "metadata": {
        "id": "Y0oOSlsOS0cq",
        "colab": {
          "base_uri": "https://localhost:8080/"
        },
        "outputId": "467ffe75-88b8-44cb-deb9-614a622df83a"
      },
      "outputs": [
        {
          "output_type": "stream",
          "name": "stdout",
          "text": [
            "Enter the first sentence: My name is Anantha Krishna Chilappagari\n",
            "Enter the second sentence: Chilappagari is my Last Name\n",
            "\n",
            " Result: [['My', 'name', 'is', 'Anantha', 'Krishna', 'Chilappagari', 'Chilappagari', 'is', 'my', 'Last', 'Name']]\n",
            "\n",
            "\n",
            " Result: ['Chilappagari', 'is']\n",
            "\n",
            "\n",
            " Result: ['My name is Anantha Krishna Chilappagari', 'Chilappagari is my Last Name']\n",
            "\n",
            "\n",
            " Result: Sentence1: {'a': 8, 'e': 1, 'i': 4, 'o': 0, 'u': 0}, Sentence2: {'a': 5, 'e': 1, 'i': 3, 'o': 0, 'u': 0}\n",
            "\n"
          ]
        }
      ],
      "source": [
        "import string\n",
        "\n",
        "def get_sents():\n",
        "    sent1 = input(\"Enter the first sentence: \")\n",
        "    sent2 = input(\"Enter the second sentence: \")\n",
        "    return sent1, sent2\n",
        "\n",
        "def to_list(sent):\n",
        "    words = sent.split()\n",
        "    words = [word.strip(string.punctuation) for word in words]\n",
        "    return words\n",
        "\n",
        "def check_common_words(sent1, sent2):\n",
        "    common_words = set(to_list(sent1)) & set(to_list(sent2))\n",
        "    return list(common_words)\n",
        "\n",
        "def remove_punctuation(sentence):\n",
        "    return sentence.translate(str.maketrans(\"\", \"\", string.punctuation))\n",
        "\n",
        "def count_vowels(sent):\n",
        "    vowels = \"aeiou\"\n",
        "    vowel_count = {vowel: sent.lower().count(vowel) for vowel in vowels}\n",
        "    return vowel_count\n",
        "\n",
        "def display_results(result):\n",
        "    print(f\"\\n Result: {result}\\n\")\n",
        "\n",
        "def main():\n",
        "    sent1, sent2 = get_sents()\n",
        "\n",
        "    list1 = to_list(sent1)\n",
        "    list2 = to_list(sent2)\n",
        "    display_results([list1 + list2])\n",
        "\n",
        "    common_words = check_common_words(sent1, sent2)\n",
        "    display_results(common_words)\n",
        "\n",
        "    new_sent1 = remove_punctuation(sent1)\n",
        "    new_sent2 = remove_punctuation(sent2)\n",
        "    display_results([new_sent1, new_sent2])\n",
        "\n",
        "    vowel_count1 = count_vowels(sent1)\n",
        "    vowel_count2 = count_vowels(sent2)\n",
        "    display_results(f\"Sentence1: {vowel_count1}, Sentence2: {vowel_count2}\")\n",
        "\n",
        "if __name__ == \"__main__\":\n",
        "    main()\n"
      ]
    },
    {
      "cell_type": "markdown",
      "source": [
        "# Question 4 (20 Points)"
      ],
      "metadata": {
        "id": "OP4-5qxAtInv"
      }
    },
    {
      "cell_type": "markdown",
      "source": [
        "Design and implement a simple command-line calculator program. The program should handle both integers and floating-point numbers.\n",
        "\n",
        "(a) Write program that takes a mathematical expression as input and evaluates it. The program should support addition, subtraction, multiplication, and division.\n",
        "\n",
        "(b) Extend the calculator to handle parentheses in mathematical expressions. Implement the necessary logic to evaluate expressions with nested parentheses.\n",
        "\n",
        "(c) Enhance your calculator to include additional mathematical operations such as exponentiation, square root, and modulus.\n",
        "\n",
        "(d) Implement error handling in the calculator program. Handle cases such as division by zero and invalid input expressions. Provide meaningful error messages.\n",
        "\n",
        "(e) Implement a command to exit the calculator."
      ],
      "metadata": {
        "id": "uzN4_hDptK9U"
      }
    },
    {
      "cell_type": "code",
      "source": [
        "# Your code here\n",
        "import math\n",
        "\n",
        "def eval_exp(expression):\n",
        "    try:\n",
        "        res = eval(expression)\n",
        "        return res\n",
        "    except ZeroDivisionError:\n",
        "        return \"Error: Division by zero\"\n",
        "    except Exception as e:\n",
        "        return f\"Error: {str(e)}\"\n",
        "\n",
        "def main():\n",
        "    print(\"Calculator\")\n",
        "    print(\"You can start asking questions and when you are done, type 'exit' to end the calculator.\\n\")\n",
        "\n",
        "    while True:\n",
        "        user_input = input(\"Enter a mathematical expression: \")\n",
        "\n",
        "        if user_input.lower() == 'exit':\n",
        "            print(\"Exiting the calculator. Goodbye!\")\n",
        "            break\n",
        "\n",
        "        result = eval_exp(user_input)\n",
        "        print(f\"Result: {result}\\n\")\n",
        "\n",
        "if __name__ == \"__main__\":\n",
        "    main()\n"
      ],
      "metadata": {
        "id": "8nQnVxjJuYtu",
        "colab": {
          "base_uri": "https://localhost:8080/"
        },
        "outputId": "d4eb3fae-1c56-48b4-a3bf-dedcfb29a9ff"
      },
      "execution_count": 19,
      "outputs": [
        {
          "output_type": "stream",
          "name": "stdout",
          "text": [
            "Calculator\n",
            "You can start asking questions and when you are done, type 'exit' to end the calculator.\n",
            "\n",
            "Enter a mathematical expression: (1+(2*3)-(45/9))**2\n",
            "Result: 4.0\n",
            "\n",
            "Enter a mathematical expression: exit\n",
            "Exiting the calculator. Goodbye!\n"
          ]
        }
      ]
    },
    {
      "cell_type": "markdown",
      "metadata": {
        "id": "z3tBE7E-Xn5X"
      },
      "source": [
        "# Question 5 (30 points).\n",
        "\n",
        "In the field of Data Science, data is often formatted as a comma-delimited (CSV) file, where each line in a file corresponds to a field's value. Refer to Chapter 9 (p. 106) for more information on comma-delimited files.\n",
        "\n",
        "To answer this question, you will need to download the file [Assignment1_denton_housing.csv](https://raw.githubusercontent.com/unt-iialab/info5731-spring2022/main/assignments/Assignment1_denton_housing.csv) included with this assignment. The file contains statistics about housing in the city of Denton from 2008 to 2014. Write a program to implement the following questions.\n",
        "\n",
        "(a) (5 pts) Calculate the difference in the number of Occupied Housing Units from year to year and print it. The difference must be calculated for the consecutive years such as 2008-2009, 2009-2010 etc. Finally, print the values in the ascending order.\n",
        "\n",
        "(b) (5 pts) For all the years, calculate the percentage of housing units which are vacant an occupied. Print the results in the following format:\n",
        "\n",
        "Year Vacant Housing Units Occupied Housing Units\n",
        "\n",
        "    2008  30%   70%                          \n",
        "\t2009 ----- -----\n",
        "\t2010 ----- -----\n",
        "    2011 ----- -----\n",
        "\t2012 ----- -----\n",
        "    2013 ----- -----\n",
        "\t2014 ----- -----\n",
        "  \n",
        "  \n",
        "\n",
        "(c) (10 pts) Calculate and print the valued and years in which the highest number of housing units were vacant and occupied. Print the results in the following format:  \n",
        "\n",
        "                              Year\tValue\n",
        "\tVacant Housing Units\t  -----   -----\n",
        "\tOccupied Housing Units\t-----   -----\n",
        "\n",
        "(d) (10 pts) Calculate the harmonic mean of the total housing units and print it out. You can find the information about harmonic mean here: https://ncalculators.com/statistics/harmonic-mean-calculator.htm"
      ]
    },
    {
      "cell_type": "code",
      "execution_count": 11,
      "metadata": {
        "id": "lqGYuHBhcsRH",
        "colab": {
          "base_uri": "https://localhost:8080/"
        },
        "outputId": "29cbe0ce-b532-43c3-bd29-bec34f0906af"
      },
      "outputs": [
        {
          "output_type": "stream",
          "name": "stdout",
          "text": [
            "(a) Difference in Occupied Housing Units from Year to Year:\n",
            "    year  ocupied_units_diff\n",
            "1   2014            -46295.0\n",
            "4   2013            -43673.0\n",
            "7   2012            -42108.0\n",
            "13  2010            -41007.0\n",
            "10  2011            -40704.0\n",
            "19  2008            -36711.0\n",
            "16  2009            -35916.0\n",
            "21  2014            -24868.0\n",
            "35  2014            -23963.0\n",
            "23  2013            -22828.0\n",
            "27  2011            -22226.0\n",
            "29  2010            -22140.0\n",
            "25  2012            -22040.0\n",
            "36  2013            -21941.0\n",
            "38  2011            -21405.0\n",
            "39  2010            -21360.0\n",
            "37  2012            -21198.0\n",
            "33  2008            -19371.0\n",
            "41  2008            -18603.0\n",
            "31  2009            -17859.0\n",
            "40  2009            -17090.0\n",
            "32  2009              -198.0\n",
            "26  2012              1972.0\n",
            "24  2013              1983.0\n",
            "34  2008              2031.0\n",
            "30  2010              3273.0\n",
            "22  2014              3441.0\n",
            "28  2011              3748.0\n",
            "20  2008             32228.0\n",
            "17  2009             32333.0\n",
            "11  2011             36491.0\n",
            "14  2010             37372.0\n",
            "8   2012             39095.0\n",
            "5   2013             39458.0\n",
            "2   2014             43481.0\n",
            "0   2014                 NaN\n",
            "3   2013                 NaN\n",
            "6   2012                 NaN\n",
            "9   2011                 NaN\n",
            "12  2010                 NaN\n",
            "15  2009                 NaN\n",
            "18  2008                 NaN\n",
            "\n",
            "(b) Percentage of Vacant and Occupied Housing Units:\n",
            "\n",
            "Year\tVacant Housing Units\tOccupied Housing Units\n",
            "title_field  vac_units_per  Occupied_units_per\n",
            "year                                          \n",
            "2008                 10.88               89.12\n",
            "2009                  9.07               90.93\n",
            "2010                  8.14               91.86\n",
            "2011                  9.38               90.62\n",
            "2012                  6.68               93.32\n",
            "2013                  8.80               91.20\n",
            "2014                  5.73               94.27\n",
            "\n",
            "(c) Highest Number of Vacant and Occupied Housing Units:\n",
            "\n",
            "Vacant Housing Units\n",
            "    year  value\n",
            "19  2008   4483\n",
            "\n",
            "Occupied Housing Units\n",
            "   year  value\n",
            "2  2014  46295\n",
            "\n",
            "(d) Harmonic Mean of Total Housing Units:\n",
            "\n",
            "Harmonic Mean of Total Housing Units: 44398.29\n"
          ]
        }
      ],
      "source": [
        "import pandas as pd\n",
        "\n",
        "class HDA:\n",
        "    def __init__(self, data):\n",
        "        self.data = data\n",
        "\n",
        "    def calc_occupied_units_diff(self):\n",
        "        try:\n",
        "            self.data['ocupied_units_diff'] = self.data.groupby('year')['value'].diff()\n",
        "\n",
        "            result = self.data[['year', 'ocupied_units_diff']].sort_values(by='ocupied_units_diff')\n",
        "            print(result)\n",
        "\n",
        "        except Exception as e:\n",
        "            print(f\"Error: {str(e)}\")\n",
        "\n",
        "    def calc_percent_occupied_vacant(self):\n",
        "        try:\n",
        "            pivot_table = pd.pivot_table(self.data, values='value', index='year', columns='title_field', aggfunc='sum')\n",
        "\n",
        "            pivot_table['vac_units_per'] = (pivot_table['Vacant Housing Units'] / pivot_table['Total Housing Units']) * 100\n",
        "            pivot_table['Occupied_units_per'] = (pivot_table['Occupied Housing Units'] / pivot_table['Total Housing Units']) * 100\n",
        "\n",
        "            print(\"\\nYear\\tVacant Housing Units\\tOccupied Housing Units\")\n",
        "            print(pivot_table[['vac_units_per', 'Occupied_units_per']].round(2))\n",
        "\n",
        "        except Exception as e:\n",
        "            print(f\"Error: {str(e)}\")\n",
        "\n",
        "    def calc_highest_vacant_occupied(self):\n",
        "        try:\n",
        "            vacant_max = self.data[self.data['title_field'] == 'Vacant Housing Units'].nlargest(1, 'value')\n",
        "            occupied_max = self.data[self.data['title_field'] == 'Occupied Housing Units'].nlargest(1, 'value')\n",
        "\n",
        "            # Print the results\n",
        "            print(\"\\nVacant Housing Units\")\n",
        "            print(vacant_max[['year', 'value']])\n",
        "            print(\"\\nOccupied Housing Units\")\n",
        "            print(occupied_max[['year', 'value']])\n",
        "\n",
        "        except Exception as e:\n",
        "            print(f\"Error: {str(e)}\")\n",
        "\n",
        "    def calc_HM(self):\n",
        "        try:\n",
        "            total_units = self.data[self.data['title_field'] == 'Total Housing Units']['value']\n",
        "            harmonic_mean = len(total_units) / sum(1 / total_units)\n",
        "            print(f\"\\nHarmonic Mean of Total Housing Units: {harmonic_mean:.2f}\")\n",
        "\n",
        "        except Exception as e:\n",
        "            print(f\"Error: {str(e)}\")\n",
        "\n",
        "\n",
        "data = pd.read_csv('/content/Assignment1_denton_housing.csv')\n",
        "\n",
        "ha = HDA(data)\n",
        "\n",
        "print(\"(a) Difference in Occupied Housing Units from Year to Year:\")\n",
        "ha.calc_occupied_units_diff()\n",
        "\n",
        "print(\"\\n(b) Percentage of Vacant and Occupied Housing Units:\")\n",
        "ha.calc_percent_occupied_vacant()\n",
        "\n",
        "print(\"\\n(c) Highest Number of Vacant and Occupied Housing Units:\")\n",
        "ha.calc_highest_vacant_occupied()\n",
        "\n",
        "print(\"\\n(d) Harmonic Mean of Total Housing Units:\")\n",
        "ha.calc_HM()\n"
      ]
    },
    {
      "cell_type": "markdown",
      "source": [
        "# Mandatory Question\n",
        "\n",
        "Provide your thoughts on the assignment. What did you find challenging, and what aspects did you enjoy? Your opinion on the provided time to complete the assignment. Share any suggestions for improvement. Your feedback will be valuable for enhancing the learning experience."
      ],
      "metadata": {
        "id": "q8BFCvWp32cf"
      }
    },
    {
      "cell_type": "code",
      "source": [
        "# Write your response below"
      ],
      "metadata": {
        "id": "_e557s2w4BpK"
      },
      "execution_count": null,
      "outputs": []
    },
    {
      "cell_type": "code",
      "source": [
        "import pandas as pd\n",
        "###############\n",
        "class HDA:\n",
        "    def __init__(self, data):\n",
        "        self.data = data\n",
        "\n",
        "    def calc_occupied_units_diff(self):\n",
        "        try:\n",
        "            # Calculate the difference in Occupied Housing Units from year to year\n",
        "            self.data['ocupied_units_diff'] = self.data.groupby('year')['value'].diff()\n",
        "\n",
        "            # Print the values in ascending order\n",
        "            result = self.data[['year', 'ocupied_units_diff']].sort_values(by='ocupied_units_diff')\n",
        "            print(result)\n",
        "\n",
        "        except Exception as e:\n",
        "            print(f\"Error: {str(e)}\")\n",
        "\n",
        "    def calc_percent_occupied_vacant(self):\n",
        "        try:\n",
        "            # Create a pivot table for vacant and occupied housing units\n",
        "            pivot_table = pd.pivot_table(self.data, values='value', index='year', columns='title_field', aggfunc='sum')\n",
        "\n",
        "            # Calculate the percentage\n",
        "            pivot_table['Vacant Housing Units (%)'] = (pivot_table['Vacant Housing Units'] / pivot_table['Total Housing Units']) * 100\n",
        "            pivot_table['Occupied Housing Units (%)'] = (pivot_table['Occupied Housing Units'] / pivot_table['Total Housing Units']) * 100\n",
        "\n",
        "            # Print the results\n",
        "            print(\"\\nYear\\tVacant Housing Units\\tOccupied Housing Units\")\n",
        "            print(pivot_table[['Vacant Housing Units (%)', 'Occupied Housing Units (%)']].round(2))\n",
        "\n",
        "        except Exception as e:\n",
        "            print(f\"Error: {str(e)}\")\n",
        "\n",
        "    def calc_highest_vacant_occupied(self):\n",
        "        try:\n",
        "            # Find the year and value with the highest vacant and occupied housing units\n",
        "            vacant_max = self.data[self.data['title_field'] == 'Vacant Housing Units'].nlargest(1, 'value')\n",
        "            occupied_max = self.data[self.data['title_field'] == 'Occupied Housing Units'].nlargest(1, 'value')\n",
        "\n",
        "            # Print the results\n",
        "            print(\"\\nVacant Housing Units\")\n",
        "            print(vacant_max[['year', 'value']])\n",
        "            print(\"\\nOccupied Housing Units\")\n",
        "            print(occupied_max[['year', 'value']])\n",
        "\n",
        "        except Exception as e:\n",
        "            print(f\"Error: {str(e)}\")\n",
        "\n",
        "    def calc_HM(self):\n",
        "        try:\n",
        "            # Calculate the harmonic mean of total housing units\n",
        "            total_units = self.data[self.data['title_field'] == 'Total Housing Units']['value']\n",
        "            harmonic_mean = len(total_units) / sum(1 / total_units)\n",
        "\n",
        "            # Print the result\n",
        "            print(f\"\\nHarmonic Mean of Total Housing Units: {harmonic_mean:.2f}\")\n",
        "\n",
        "        except Exception as e:\n",
        "            print(f\"Error: {str(e)}\")\n",
        "\n",
        "\n",
        "# Read data from the provided CSV\n",
        "data = pd.read_csv('/content/Assignment1_denton_housing.csv')\n",
        "\n",
        "# Create an instance of the HousingDataAnalyzer class\n",
        "ha = HDA(data)\n",
        "\n",
        "# Task (a)\n",
        "print(\"(a) Difference in Occupied Housing Units from Year to Year:\")\n",
        "ha.calc_occupied_units_diff()\n",
        "\n",
        "# Task (b)\n",
        "print(\"\\n(b) Percentage of Vacant and Occupied Housing Units:\")\n",
        "ha.calc_percent_occupied_vacant()\n",
        "\n",
        "# Task (c)\n",
        "print(\"\\n(c) Highest Number of Vacant and Occupied Housing Units:\")\n",
        "ha.calc_highest_vacant_occupied()\n",
        "\n",
        "# Task (d)\n",
        "print(\"\\n(d) Harmonic Mean of Total Housing Units:\")\n",
        "ha.calc_HM()\n"
      ],
      "metadata": {
        "colab": {
          "base_uri": "https://localhost:8080/"
        },
        "id": "YLhx2VBqZs-M",
        "outputId": "2014a0b5-b5b6-4247-99d5-21ad3aa6329c"
      },
      "execution_count": 10,
      "outputs": [
        {
          "output_type": "stream",
          "name": "stdout",
          "text": [
            "(a) Difference in Occupied Housing Units from Year to Year:\n",
            "    year  ocupied_units_diff\n",
            "1   2014            -46295.0\n",
            "4   2013            -43673.0\n",
            "7   2012            -42108.0\n",
            "13  2010            -41007.0\n",
            "10  2011            -40704.0\n",
            "19  2008            -36711.0\n",
            "16  2009            -35916.0\n",
            "21  2014            -24868.0\n",
            "35  2014            -23963.0\n",
            "23  2013            -22828.0\n",
            "27  2011            -22226.0\n",
            "29  2010            -22140.0\n",
            "25  2012            -22040.0\n",
            "36  2013            -21941.0\n",
            "38  2011            -21405.0\n",
            "39  2010            -21360.0\n",
            "37  2012            -21198.0\n",
            "33  2008            -19371.0\n",
            "41  2008            -18603.0\n",
            "31  2009            -17859.0\n",
            "40  2009            -17090.0\n",
            "32  2009              -198.0\n",
            "26  2012              1972.0\n",
            "24  2013              1983.0\n",
            "34  2008              2031.0\n",
            "30  2010              3273.0\n",
            "22  2014              3441.0\n",
            "28  2011              3748.0\n",
            "20  2008             32228.0\n",
            "17  2009             32333.0\n",
            "11  2011             36491.0\n",
            "14  2010             37372.0\n",
            "8   2012             39095.0\n",
            "5   2013             39458.0\n",
            "2   2014             43481.0\n",
            "0   2014                 NaN\n",
            "3   2013                 NaN\n",
            "6   2012                 NaN\n",
            "9   2011                 NaN\n",
            "12  2010                 NaN\n",
            "15  2009                 NaN\n",
            "18  2008                 NaN\n",
            "\n",
            "(b) Percentage of Vacant and Occupied Housing Units:\n",
            "\n",
            "Year\tVacant Housing Units\tOccupied Housing Units\n",
            "title_field  Vacant Housing Units (%)  Occupied Housing Units (%)\n",
            "year                                                             \n",
            "2008                            10.88                       89.12\n",
            "2009                             9.07                       90.93\n",
            "2010                             8.14                       91.86\n",
            "2011                             9.38                       90.62\n",
            "2012                             6.68                       93.32\n",
            "2013                             8.80                       91.20\n",
            "2014                             5.73                       94.27\n",
            "\n",
            "(c) Highest Number of Vacant and Occupied Housing Units:\n",
            "\n",
            "Vacant Housing Units\n",
            "    year  value\n",
            "19  2008   4483\n",
            "\n",
            "Occupied Housing Units\n",
            "   year  value\n",
            "2  2014  46295\n",
            "\n",
            "(d) Harmonic Mean of Total Housing Units:\n",
            "\n",
            "Harmonic Mean of Total Housing Units: 44398.29\n"
          ]
        }
      ]
    },
    {
      "cell_type": "code",
      "source": [
        "(c) (10 pts) Calculate and print the valued and years in which the highest number of housing units were vacant and occupied. Print the results in the following format:"
      ],
      "metadata": {
        "id": "L7ljo66JZtZd"
      },
      "execution_count": null,
      "outputs": []
    }
  ],
  "metadata": {
    "colab": {
      "provenance": [],
      "include_colab_link": true
    },
    "kernelspec": {
      "display_name": "Python 3 (ipykernel)",
      "language": "python",
      "name": "python3"
    },
    "language_info": {
      "codemirror_mode": {
        "name": "ipython",
        "version": 3
      },
      "file_extension": ".py",
      "mimetype": "text/x-python",
      "name": "python",
      "nbconvert_exporter": "python",
      "pygments_lexer": "ipython3",
      "version": "3.9.12"
    }
  },
  "nbformat": 4,
  "nbformat_minor": 0
}
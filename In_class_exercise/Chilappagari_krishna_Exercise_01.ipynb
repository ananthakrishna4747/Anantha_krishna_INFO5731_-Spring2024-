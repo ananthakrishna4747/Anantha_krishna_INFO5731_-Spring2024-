{
  "cells": [
    {
      "cell_type": "markdown",
      "metadata": {
        "id": "view-in-github",
        "colab_type": "text"
      },
      "source": [
        "<a href=\"https://colab.research.google.com/github/ananthakrishna4747/Anantha_krishna_INFO5731_-Spring2024-/blob/main/In_class_exercise/Chilappagari_krishna_Exercise_01.ipynb\" target=\"_parent\"><img src=\"https://colab.research.google.com/assets/colab-badge.svg\" alt=\"Open In Colab\"/></a>"
      ]
    },
    {
      "cell_type": "markdown",
      "metadata": {
        "id": "DymRJbxDBCnf"
      },
      "source": [
        "# **This first In-class-exercise cover a variety of fundamental concepts in Python and are designed to help individuals improve their coding skills and problem-solving abilities.**\n",
        "\n",
        "The submission is due on 01/31/2024 11:59 PM. This submission is worth 40 points in total.\n"
      ]
    },
    {
      "cell_type": "markdown",
      "source": [
        "(1) Write a Python program that  prompts the user to input the length and width of a rectangle, and then calculates and displays the area of the rectangle."
      ],
      "metadata": {
        "id": "FBKvD6O_TY6e"
      }
    },
    {
      "cell_type": "code",
      "source": [
        "# write your answer here\n",
        "length = int(input(\"Enter the Length\"))\n",
        "breadth = int(input(\"Enter the width\"))\n",
        "area = length*breadth\n",
        "print(\"Area of rectangle is \",area)"
      ],
      "metadata": {
        "id": "cikVKDXdTbzE",
        "colab": {
          "base_uri": "https://localhost:8080/"
        },
        "outputId": "fd1f8d77-a1e4-452d-a4cf-b5aece5bafc2"
      },
      "execution_count": 1,
      "outputs": [
        {
          "output_type": "stream",
          "name": "stdout",
          "text": [
            "Enter the Length10\n",
            "Enter the width5\n",
            "Area of rectangle is  50\n"
          ]
        }
      ]
    },
    {
      "cell_type": "markdown",
      "source": [
        "(2) Create a Python program that interactively takes two numerical inputs from the user and swaps their values without utilizing an extra variable."
      ],
      "metadata": {
        "id": "E9RqrlwdTfvl"
      }
    },
    {
      "cell_type": "code",
      "source": [
        "# write your answer here\n",
        "num1 = int(input(\"Enter the Length\"))\n",
        "num2 = int(input(\"Enter the width\"))\n",
        "num1 = num1+num2\n",
        "num2 = num1-num2\n",
        "num1 = num1-num2\n",
        "\n",
        "print(num1,num2)"
      ],
      "metadata": {
        "id": "4XvRknixTh1g",
        "colab": {
          "base_uri": "https://localhost:8080/"
        },
        "outputId": "02425c4b-5f88-4811-8d55-ea3d60372dd2"
      },
      "execution_count": 2,
      "outputs": [
        {
          "output_type": "stream",
          "name": "stdout",
          "text": [
            "Enter the Length12\n",
            "Enter the width32\n",
            "32 12\n"
          ]
        }
      ]
    },
    {
      "cell_type": "markdown",
      "metadata": {
        "id": "03jb4GZsBkBS"
      },
      "source": [
        "(3) Write a Python script to determine and print the length of a user-input string."
      ]
    },
    {
      "cell_type": "code",
      "execution_count": 9,
      "metadata": {
        "id": "YaGLbSHHB8Ej",
        "colab": {
          "base_uri": "https://localhost:8080/"
        },
        "outputId": "aa557fd2-ecda-4818-ec6b-150751374aca"
      },
      "outputs": [
        {
          "output_type": "stream",
          "name": "stdout",
          "text": [
            "Enter the String :krishna chilappagari\n",
            "20\n"
          ]
        }
      ],
      "source": [
        "# write your answer here\n",
        "string1 = input(\"Enter the String :\")\n",
        "length = len(string1)\n",
        "print(length)\n"
      ]
    },
    {
      "cell_type": "markdown",
      "metadata": {
        "id": "jJDe71iLB616"
      },
      "source": [
        "(4) Construct a Python program that counts and displays the occurrences of each character in a given string.\n",
        "\n",
        "Sample String: 'openai.ai',\n",
        "\n",
        "Expected Result: {'a': 2, 'i': 2, '.': 1, 'o': 1, 'p': 1, 'e': 1, 'n': 1}"
      ]
    },
    {
      "cell_type": "code",
      "execution_count": 7,
      "metadata": {
        "id": "MtKskTzbCLaU",
        "colab": {
          "base_uri": "https://localhost:8080/"
        },
        "outputId": "03095a47-b4fe-4217-fc98-18e32c43e408"
      },
      "outputs": [
        {
          "output_type": "stream",
          "name": "stdout",
          "text": [
            "Enter the String krishna chilappagari\n",
            "{'k': 1, 'r': 2, 'i': 2, 's': 1, 'h': 2, 'n': 1, 'a': 2, ' ': 1, 'c': 1, 'l': 1, 'p': 2, 'g': 1}\n"
          ]
        }
      ],
      "source": [
        "# write your answer here\n",
        "s1 = input(\"Enter the String \")\n",
        "dict={}\n",
        "num = 1\n",
        "for i in range(len(s1)):\n",
        "    if s1[i] in dict.keys():\n",
        "        dict[s1[i]]= num+1\n",
        "    else:\n",
        "        dict[s1[i]] = num\n",
        "\n",
        "print(dict)"
      ]
    },
    {
      "cell_type": "markdown",
      "metadata": {
        "id": "55W9AMdXCSpV"
      },
      "source": [
        "(5) Design a Python code to calculate the sum of all elements in a user-provided list."
      ]
    },
    {
      "cell_type": "code",
      "execution_count": 11,
      "metadata": {
        "id": "I57NXsauCec2",
        "colab": {
          "base_uri": "https://localhost:8080/"
        },
        "outputId": "a6710f1e-349a-461a-c1cc-fb4c7be95ae8"
      },
      "outputs": [
        {
          "output_type": "stream",
          "name": "stdout",
          "text": [
            "Enter the length of List:5\n",
            "1\n",
            "2\n",
            "3\n",
            "4\n",
            "5\n",
            "list1_len 5\n",
            "sum of nubers in a list : 15\n"
          ]
        }
      ],
      "source": [
        "# write your answer here\n",
        "list1_len = int(input(\"Enter the length of List:\"))\n",
        "list1=[]\n",
        "sum = 0\n",
        "for i in range(list1_len):\n",
        "    number = int(input())\n",
        "    list1.append(number)\n",
        "    sum = sum+number\n",
        "print(\"list1_len\",list1_len)\n",
        "print(\"sum of nubers in a list :\",sum)"
      ]
    },
    {
      "cell_type": "markdown",
      "metadata": {
        "id": "4ulBZ6yhCi9F"
      },
      "source": [
        "(6) Write a Python program that modifies a given string by replacing all occurrences of its first character with '$', excluding the first character itself.\n",
        "\n",
        "\n",
        "Sample String : 'restart‘,\n",
        "\n",
        "Expected Result : 'resta\\$t'"
      ]
    },
    {
      "cell_type": "code",
      "execution_count": 13,
      "metadata": {
        "id": "Fj0XhwbBCw2o",
        "colab": {
          "base_uri": "https://localhost:8080/"
        },
        "outputId": "2bb718b9-99de-4300-be3d-e24c27365c08"
      },
      "outputs": [
        {
          "output_type": "stream",
          "name": "stdout",
          "text": [
            "Enter the String: restart\n",
            "Sample String: restart\n",
            "Expected Result: resta$t\n"
          ]
        }
      ],
      "source": [
        "s1 = input(\"Enter the String: \")\n",
        "list_s1 = list(s1)\n",
        "\n",
        "if len(list_s1) >= 2:\n",
        "    first_char = list_s1[0]\n",
        "\n",
        "    for i in range(1, len(list_s1)):\n",
        "        if list_s1[i] == first_char:\n",
        "            list_s1[i] = '$'\n",
        "\n",
        "modified_string = ''.join(list_s1)\n",
        "\n",
        "print(\"Sample String:\", s1)\n",
        "print(\"Expected Result:\", modified_string)\n"
      ]
    },
    {
      "cell_type": "markdown",
      "source": [
        "(7) Write a Python program using a while loop to compute the factorial of a user-supplied number."
      ],
      "metadata": {
        "id": "qVXA3q7ET5JI"
      }
    },
    {
      "cell_type": "code",
      "source": [
        "# write your answer here\n",
        "def factorial_of_num(num):\n",
        "    factorial = 1\n",
        "    while num > 1:\n",
        "        factorial *= num\n",
        "        num -= 1\n",
        "    return factorial\n",
        "\n",
        "number = int(input(\"Enter a number to calculate its factorial: \"))\n",
        "\n",
        "if number < 0:\n",
        "    print(\"Factorial is undefined for negative numbers.\")\n",
        "else:\n",
        "    factorial_result = factorial_of_num(number)\n",
        "    print(f\"The factorial of given number {number} is: {factorial_result}\")\n"
      ],
      "metadata": {
        "id": "Lbt7R6UkT7BA",
        "colab": {
          "base_uri": "https://localhost:8080/"
        },
        "outputId": "bdb97a8b-4adc-4021-d652-138adfac3841"
      },
      "execution_count": 15,
      "outputs": [
        {
          "output_type": "stream",
          "name": "stdout",
          "text": [
            "Enter a number to calculate its factorial: 6\n",
            "The factorial of given number 6 is: 720\n"
          ]
        }
      ]
    },
    {
      "cell_type": "markdown",
      "source": [
        "(8) Create a program that accepts a list of numbers as input and outputs a new list containing only the even numbers."
      ],
      "metadata": {
        "id": "6YfbzXMNT--R"
      }
    },
    {
      "cell_type": "code",
      "source": [
        "# write your answer here\n",
        "list1_len = int(input(\"Enter the length of List: \"))\n",
        "list1 = []\n",
        "\n",
        "for i in range(list1_len):\n",
        "    number = int(input())\n",
        "    if number % 2 == 0:\n",
        "        list1.append(number)\n",
        "\n",
        "print(\"list1:\", list1)\n"
      ],
      "metadata": {
        "id": "54q7wMQPUAKu",
        "colab": {
          "base_uri": "https://localhost:8080/"
        },
        "outputId": "88817a28-d6d6-418b-e4a3-cc24e8f7fc74"
      },
      "execution_count": 17,
      "outputs": [
        {
          "output_type": "stream",
          "name": "stdout",
          "text": [
            "Enter the length of List: 10\n",
            "1\n",
            "2\n",
            "3\n",
            "4\n",
            "5\n",
            "6\n",
            "7\n",
            "8\n",
            "9\n",
            "10\n",
            "list1: [2, 4, 6, 8, 10]\n"
          ]
        }
      ]
    },
    {
      "cell_type": "markdown",
      "metadata": {
        "id": "_bIP7s1MCzue"
      },
      "source": [
        "\n",
        "(9) Design a Python function to check if a number is prime.\n"
      ]
    },
    {
      "cell_type": "code",
      "execution_count": 18,
      "metadata": {
        "id": "w79QilHXD3Mg",
        "colab": {
          "base_uri": "https://localhost:8080/"
        },
        "outputId": "99427207-7295-499f-a554-c118e1fc2c6a"
      },
      "outputs": [
        {
          "output_type": "stream",
          "name": "stdout",
          "text": [
            "Enter the number to be checked :123\n",
            "123 is not a prime\n"
          ]
        }
      ],
      "source": [
        "# write your answer here\n",
        "\n",
        "def is_prime(number):\n",
        "    if number < 2:\n",
        "        return False\n",
        "    if number == 2:\n",
        "        return True\n",
        "    if number % 2 == 0:\n",
        "        return False\n",
        "\n",
        "    i = 3\n",
        "    while i * i <= number:\n",
        "        if number % i == 0:\n",
        "            return False\n",
        "        i += 2\n",
        "\n",
        "    return True\n",
        "\n",
        "number = int(input(\"Enter the number to be checked :\"))\n",
        "if is_prime(number):\n",
        "    print(f\"{number} is a prime\")\n",
        "else:\n",
        "    print(f\"{number} is not a prime\")\n"
      ]
    },
    {
      "cell_type": "markdown",
      "metadata": {
        "id": "xCa2bK9aD4Q3"
      },
      "source": [
        "(10) Write a Python program to concatenate following dictionaries to create a new one.\n",
        "\n",
        "Sample Dictionary : dic1={1:10, 2:20}, dic2={3:30, 4:40}, dic3={5:50,6:60},\n",
        "\n",
        "Expected Result : {1: 10, 2: 20, 3: 30, 4: 40, 5: 50, 6: 60}\n"
      ]
    },
    {
      "cell_type": "code",
      "execution_count": 19,
      "metadata": {
        "id": "_z4aLqAbEET1",
        "colab": {
          "base_uri": "https://localhost:8080/"
        },
        "outputId": "de616e33-5457-4677-9594-1dfec15bc7a0"
      },
      "outputs": [
        {
          "output_type": "stream",
          "name": "stdout",
          "text": [
            "Expected Dict: {1: 10, 2: 20, 3: 30, 4: 40, 5: 50, 6: 60}\n"
          ]
        }
      ],
      "source": [
        "# write your answer here\n",
        "dic1 = {1: 10, 2: 20}\n",
        "dic2 = {3: 30, 4: 40}\n",
        "dic3 = {5: 50, 6: 60}\n",
        "\n",
        "result_dict = dic1.copy()\n",
        "result_dict.update(dic2)\n",
        "result_dict.update(dic3)\n",
        "\n",
        "print(\"Expected Dict:\", result_dict)\n"
      ]
    },
    {
      "cell_type": "markdown",
      "source": [
        "(11) Design a Python function that takes a tuple of integers as input and returns the largest and smallest elements."
      ],
      "metadata": {
        "id": "bkyZ2xSZUOst"
      }
    },
    {
      "cell_type": "code",
      "source": [
        "# write your answer here\n",
        "\n",
        "tuple_len = int(input(\"Enter the length of List:\"))\n",
        "tuple1=[]\n",
        "max = 0\n",
        "min = 99999999999\n",
        "for i in range(tuple_len):\n",
        "    number = int(input())\n",
        "    tuple1.append(number)\n",
        "\n",
        "tuple1= tuple(tuple1)\n",
        "for i in range(len(tuple1)):\n",
        "    if tuple1[i]>max:\n",
        "        max=tuple1[i]\n",
        "    if tuple1[i]<min:\n",
        "        min=tuple1[i]\n",
        "print(tuple1)\n",
        "print(f\"Largest Element: {max}\")\n",
        "print(f\"Smallest Element: {min}\")"
      ],
      "metadata": {
        "id": "3FdLRBKOUQEd",
        "colab": {
          "base_uri": "https://localhost:8080/"
        },
        "outputId": "3eb05318-7e73-49cf-a0b4-8fe993d4006a"
      },
      "execution_count": 20,
      "outputs": [
        {
          "output_type": "stream",
          "name": "stdout",
          "text": [
            "Enter the length of List:8\n",
            "1\n",
            "2\n",
            "3\n",
            "4\n",
            "5\n",
            "6\n",
            "7\n",
            "8\n",
            "(1, 2, 3, 4, 5, 6, 7, 8)\n",
            "Largest Element: 8\n",
            "Smallest Element: 1\n"
          ]
        }
      ]
    },
    {
      "cell_type": "markdown",
      "source": [
        "(12) Write a Python program that counts the frequency of each character in a given string and stores it in a dictionary."
      ],
      "metadata": {
        "id": "O0TVi3gKUTpp"
      }
    },
    {
      "cell_type": "code",
      "source": [
        "# write your answer here\n",
        "s1 = input(\"Enter the String: \")\n",
        "char_count = {}\n",
        "\n",
        "for char in s1:\n",
        "    if char in char_count:\n",
        "        char_count[char] += 1\n",
        "    else:\n",
        "        char_count[char] = 1\n",
        "\n",
        "print(\"Character Frequency Dictionary:\", char_count)\n"
      ],
      "metadata": {
        "id": "lAtfSfZXUU-h",
        "colab": {
          "base_uri": "https://localhost:8080/"
        },
        "outputId": "b15d3353-2a5a-4532-d249-0c79de6899c9"
      },
      "execution_count": 21,
      "outputs": [
        {
          "output_type": "stream",
          "name": "stdout",
          "text": [
            "Enter the String: Chilappagari\n",
            "Character Frequency Dictionary: {'C': 1, 'h': 1, 'i': 2, 'l': 1, 'a': 3, 'p': 2, 'g': 1, 'r': 1}\n"
          ]
        }
      ]
    },
    {
      "cell_type": "markdown",
      "metadata": {
        "id": "0v48Vqa7FrQh"
      },
      "source": [
        "(13) Implement a Python script to identify duplicate elements in a provided array of integers. Return -1 if there are no duplicates."
      ]
    },
    {
      "cell_type": "code",
      "execution_count": 22,
      "metadata": {
        "id": "7WEmgq-DF2P1",
        "colab": {
          "base_uri": "https://localhost:8080/"
        },
        "outputId": "5bf56bc9-640e-4787-dda1-d98281762627"
      },
      "outputs": [
        {
          "name": "stdout",
          "output_type": "stream",
          "text": [
            "Enter the array of integers : 1 2 3 4 5 6 7 8\n"
          ]
        },
        {
          "output_type": "execute_result",
          "data": {
            "text/plain": [
              "-1"
            ]
          },
          "metadata": {},
          "execution_count": 22
        }
      ],
      "source": [
        "# write your answer here\n",
        "arr = [int(x) for x in input(\"Enter the array of integers : \").split()]\n",
        "set1 = set()\n",
        "set2 = set()\n",
        "def duplicate_check(arr):\n",
        "    for num in arr:\n",
        "        if num in set1:\n",
        "            set2.add(num)\n",
        "        else:\n",
        "            set1.add(num)\n",
        "\n",
        "    if set2:\n",
        "        return list(set2)\n",
        "    else:\n",
        "        return -1\n",
        "\n",
        "duplicate_check(arr)\n"
      ]
    },
    {
      "cell_type": "markdown",
      "metadata": {
        "id": "vD5PYLMuGga_"
      },
      "source": [
        "(14) Write a Python script to find the common elements between two lists."
      ]
    },
    {
      "cell_type": "code",
      "execution_count": 23,
      "metadata": {
        "id": "t0D5kdJUGjjw",
        "colab": {
          "base_uri": "https://localhost:8080/"
        },
        "outputId": "50f75dd3-c3df-41e6-a0c6-d4778fe187e9"
      },
      "outputs": [
        {
          "output_type": "stream",
          "name": "stdout",
          "text": [
            "Enter the first list of integers: 1 2 3 4 5\n",
            "Enter the second list of integers 4 5 6 7 8\n",
            "Common elements: [4, 5]\n"
          ]
        }
      ],
      "source": [
        "# write your answer here\n",
        "\n",
        "list1 = [int(x) for x in input(\"Enter the first list of integers: \").split()]\n",
        "list2 = [int(x) for x in input(\"Enter the second list of integers \").split()]\n",
        "\n",
        "intersection_of_ele = set(list1) & set(list2)\n",
        "\n",
        "if intersection_of_ele:\n",
        "    print(\"Common elements:\", list(intersection_of_ele))\n",
        "else:\n",
        "    print(\"No common elements.\")\n"
      ]
    },
    {
      "cell_type": "markdown",
      "metadata": {
        "id": "uHkd-y5VhVWC"
      },
      "source": [
        "(15) Write a Python program to randomly divide the students in this class into six groups for term projects, each group should have at least 4 students but no more than 6 students (including 6).\n",
        "\n",
        "Here is the students list:\n",
        "\n",
        "student_list_spring_2024=[rb0846,\n",
        "ac1964,\n",
        "hc0612,\n",
        "md0912,\n",
        "ad1198,\n",
        "md0894,\n",
        "md0825,\n",
        "vg0598,\n",
        "vg0433,\n",
        "mh1068,\n",
        "yj0173,\n",
        "pk0553,\n",
        "tk0411,\n",
        "srk0204,\n",
        "sk2922,\n",
        "sk2936,\n",
        "mk1302,\n",
        "mk1317,\n",
        "tk0412,\n",
        "vk0656,\n",
        "sm2985,\n",
        "mm2372,\n",
        "un0045,\n",
        "an0892,\n",
        "sn0913,\n",
        "gp0252,\n",
        "ap1484,\n",
        "mr1765,\n",
        "sr1385,\n",
        "sr1335,\n",
        "hs0665,\n",
        "ms2060,\n",
        "gt0217,\n",
        "nt0385,\n",
        "tv0186,\n",
        "sv1394,\n",
        "sv1752,\n",
        "sv1555,\n",
        "sy0594\n",
        "]\n"
      ]
    },
    {
      "cell_type": "code",
      "source": [
        "# write your answer here\n",
        "import random\n",
        "\n",
        "def divide_students_into_groups(student_list, group_size_range=(4, 6)):\n",
        "    random.shuffle(student_list)\n",
        "    groups = []\n",
        "    current_group = []\n",
        "\n",
        "    for student in student_list:\n",
        "        current_group.append(student)\n",
        "\n",
        "        if len(current_group) == random.randint(*group_size_range):\n",
        "            groups.append(current_group)\n",
        "            current_group = []\n",
        "\n",
        "    return groups\n",
        "\n",
        "student_list_spring_2024 = ['rb0846', 'ac1964', 'hc0612', 'md0912', 'ad1198', 'md0894', 'md0825', 'vg0598', 'vg0433', 'mh1068', 'yj0173', 'pk0553', 'tk0411', 'srk0204', 'sk2922', 'sk2936', 'mk1302', 'mk1317', 'tk0412', 'vk0656', 'sm2985', 'mm2372', 'un0045', 'an0892', 'sn0913', 'gp0252', 'ap1484', 'mr1765', 'sr1385', 'sr1335', 'hs0665', 'ms2060', 'gt0217', 'nt0385', 'tv0186', 'sv1394', 'sv1752', 'sv1555', 'sy0594']\n",
        "\n",
        "result_groups = divide_students_into_groups(student_list_spring_2024)\n",
        "for i, group in enumerate(result_groups, start=1):\n",
        "    print(f\"Group {i}: {group}\")\n"
      ],
      "metadata": {
        "colab": {
          "base_uri": "https://localhost:8080/"
        },
        "id": "_KfChH56tTFm",
        "outputId": "693b409a-4af0-40df-a90b-4aafcba49459"
      },
      "execution_count": 28,
      "outputs": [
        {
          "output_type": "stream",
          "name": "stdout",
          "text": [
            "Group 1: ['vg0433', 'sr1335', 'tv0186', 'sr1385', 'srk0204']\n",
            "Group 2: ['vg0598', 'rb0846', 'mk1302', 'nt0385']\n",
            "Group 3: ['sv1555', 'sv1394', 'yj0173', 'gp0252']\n"
          ]
        }
      ]
    },
    {
      "cell_type": "markdown",
      "metadata": {
        "id": "fmZ9vX20Qs3d"
      },
      "source": [
        "(16) Create a program that takes a positive integer 'n' as input and prints the count of even numbers from 1 to 'n'. Optimize the loop using the break statement."
      ]
    },
    {
      "cell_type": "code",
      "execution_count": 29,
      "metadata": {
        "id": "W8Jw6sWMQs3d",
        "colab": {
          "base_uri": "https://localhost:8080/"
        },
        "outputId": "5e24e3f6-bfdc-46eb-d82e-8e4842d21d86"
      },
      "outputs": [
        {
          "output_type": "stream",
          "name": "stdout",
          "text": [
            "Enter a positive integer (n): 18\n",
            "Count of even numbers from 1 to 18: 9\n"
          ]
        }
      ],
      "source": [
        "# write your answer here\n",
        "def even_numbers(n):\n",
        "    c = 0\n",
        "\n",
        "    for i in range(2, n + 1, 2):\n",
        "        c += 1\n",
        "\n",
        "    return c\n",
        "\n",
        "while True:\n",
        "    try:\n",
        "        inp = int(input(\"Enter a positive integer (n): \"))\n",
        "        if inp > 0:\n",
        "            break\n",
        "        else:\n",
        "            print(\"Please enter a positive integer.\")\n",
        "    except ValueError:\n",
        "        print(\"Invalid input. Please enter a positive integer.\")\n",
        "\n",
        "result = even_numbers(inp)\n",
        "print(f\"Count of even numbers from 1 to {inp}: {result}\")\n"
      ]
    },
    {
      "cell_type": "markdown",
      "metadata": {
        "id": "hvq4APMhQs3d"
      },
      "source": [
        "(17) Develop a Python function called 'count_vowels' that takes a string as input and returns the count of vowels (both lowercase and uppercase) present in the string, ignoring spaces and non-alphabetic characters."
      ]
    },
    {
      "cell_type": "code",
      "execution_count": 30,
      "metadata": {
        "id": "ZnoxhSglQs3d",
        "colab": {
          "base_uri": "https://localhost:8080/"
        },
        "outputId": "785d9d78-3033-4ccf-b641-9fb11d9e6405"
      },
      "outputs": [
        {
          "output_type": "stream",
          "name": "stdout",
          "text": [
            "Enter a string: Computational methods\n",
            "Count of vowels in the string: 8\n"
          ]
        }
      ],
      "source": [
        "# write your answer here\n",
        "def vowel_count(input_string):\n",
        "    lower_input = input_string.lower()\n",
        "    vowels = \"aeiou\"\n",
        "    c = 0\n",
        "\n",
        "    for char in lower_input:\n",
        "        if char.isalpha() and char in vowels:\n",
        "            c += 1\n",
        "\n",
        "    return c\n",
        "\n",
        "# Example usage\n",
        "inp = input(\"Enter a string: \")\n",
        "result = vowel_count(inp)\n",
        "print(f\"Count of vowels in the string: {result}\")\n"
      ]
    },
    {
      "cell_type": "markdown",
      "source": [
        "(18) Create a custom exception named ValueTooSmallError in Python. Write a program that takes user input for an age, and if the entered age is less than 18, raise the ValueTooSmallError with an appropriate error message."
      ],
      "metadata": {
        "id": "55FWoSJPVVM6"
      }
    },
    {
      "cell_type": "code",
      "source": [
        "class ValueTooSmallError(Exception):\n",
        "    pass\n",
        "\n",
        "def check_age(age):\n",
        "    if age < 18:\n",
        "        raise ValueTooSmallError(\"Age must be 18 or older.\")\n",
        "\n",
        "# Example usage\n",
        "try:\n",
        "    user_age = int(input(\"Enter your age: \"))\n",
        "    check_age(user_age)\n",
        "    print(\"You are eligible.\")\n",
        "except (ValueError, ValueTooSmallError) as e:\n",
        "    print(f\"Error: {e}\")\n"
      ],
      "metadata": {
        "id": "hwtr1wZmVX5A",
        "colab": {
          "base_uri": "https://localhost:8080/"
        },
        "outputId": "a68be1ed-1b75-4707-807c-dfd7377cc5b9"
      },
      "execution_count": 31,
      "outputs": [
        {
          "output_type": "stream",
          "name": "stdout",
          "text": [
            "Enter your age: 17\n",
            "Error: Age must be 18 or older.\n"
          ]
        }
      ]
    },
    {
      "cell_type": "markdown",
      "source": [
        "(19) Develop a script that reverses a given string without using built-in reverse functions."
      ],
      "metadata": {
        "id": "Q9ecagcaVazW"
      }
    },
    {
      "cell_type": "code",
      "source": [
        "# write your answer here\n",
        "def reverse_string(string2):\n",
        "    reversed_string = \"\"\n",
        "\n",
        "    for char in string2[::-1]:\n",
        "        reversed_string += char\n",
        "\n",
        "    return reversed_string\n",
        "\n",
        "string2_inp = input(\"Enter a string: \")\n",
        "result = reverse_string(string2_inp)\n",
        "print(\"Reversed String:\", result)\n"
      ],
      "metadata": {
        "id": "gycgckoAVZjR",
        "colab": {
          "base_uri": "https://localhost:8080/"
        },
        "outputId": "8361f0e1-de1b-43ff-8875-680bc4dde828"
      },
      "execution_count": 32,
      "outputs": [
        {
          "output_type": "stream",
          "name": "stdout",
          "text": [
            "Enter a string: Krishna\n",
            "Reversed String: anhsirK\n"
          ]
        }
      ]
    },
    {
      "cell_type": "markdown",
      "source": [
        "(20) Implement a Python script to generate a random password of a specified length."
      ],
      "metadata": {
        "id": "ZFG6RibifMLu"
      }
    },
    {
      "cell_type": "code",
      "source": [
        "# write your answer here\n",
        "import random\n",
        "import string\n",
        "\n",
        "def gen_password(length):\n",
        "    characters = string.ascii_letters + string.digits\n",
        "    password = ''.join(random.choice(characters) for _ in range(length))\n",
        "    return password\n",
        "\n",
        "pass_length = int(input(\"Enter the desired length of the password: \"))\n",
        "\n",
        "if pass_length > 0:\n",
        "    password_generated = gen_password(pass_length)\n",
        "    print(\"Generated Password:\", password_generated)\n",
        "else:\n",
        "    print(\"Please enter a valid positive length for the password.\")\n"
      ],
      "metadata": {
        "id": "BFVrkEi9fNiD",
        "colab": {
          "base_uri": "https://localhost:8080/"
        },
        "outputId": "522812ba-44f4-41c2-9f50-783af5cfe287"
      },
      "execution_count": 33,
      "outputs": [
        {
          "output_type": "stream",
          "name": "stdout",
          "text": [
            "Enter the desired length of the password: 15\n",
            "Generated Password: dNcmiXXBLa5WnWf\n"
          ]
        }
      ]
    },
    {
      "cell_type": "markdown",
      "source": [
        "# Try these questions:"
      ],
      "metadata": {
        "id": "6SmvS7nSfbj8"
      }
    },
    {
      "cell_type": "markdown",
      "source": [
        "(21) Define a base class called 'Vehicle' with attributes make and model. Create a derived class Car that inherits from Vehicle and has an additional attribute 'num_doors'. Demonstrate an example of creating an instance of the 'Car' class and accessing its attributes."
      ],
      "metadata": {
        "id": "cboAr5pEWUf5"
      }
    },
    {
      "cell_type": "code",
      "source": [
        "# write your answer here\n"
      ],
      "metadata": {
        "id": "phs9gciMWWAW"
      },
      "execution_count": 34,
      "outputs": []
    },
    {
      "cell_type": "markdown",
      "source": [
        "(22) Create a class called 'Shape' with a method calculate_area(). Implement two derived classes 'Circle' and 'Rectangle' that inherit from Shape and override the calculate_area() method. Demonstrate polymorphism by creating instances of both derived classes and calling the calculate_area() method."
      ],
      "metadata": {
        "id": "J8HHefNtePwd"
      }
    },
    {
      "cell_type": "code",
      "source": [
        "# write your answer here"
      ],
      "metadata": {
        "id": "btnMmUZDeRhS"
      },
      "execution_count": 35,
      "outputs": []
    },
    {
      "cell_type": "markdown",
      "source": [
        "(23) Write a Python program that prompts the user to enter two numbers and perform a division operation. Handle exceptions for both zero division and invalid input (non-numeric input). Display appropriate error messages for each type of exception and ensure the program does not crash due to these errors."
      ],
      "metadata": {
        "id": "z0oqEAlTeMUS"
      }
    },
    {
      "cell_type": "code",
      "source": [
        "# write your answer here"
      ],
      "metadata": {
        "id": "yjdc1zM1eMAs"
      },
      "execution_count": 36,
      "outputs": []
    },
    {
      "cell_type": "markdown",
      "source": [
        "# Mandatory Question"
      ],
      "metadata": {
        "id": "sZOhks1dXWEe"
      }
    },
    {
      "cell_type": "markdown",
      "source": [
        "**Important:**\n",
        "Reflecting on the first three lectures and the exercises you've completed, please provide feedback on your learning experience. Share your thoughts on whether the material covered was clear, the exercises were helpful, and if you feel more confident in applying Python programming concepts. Additionally, mention any specific areas where you would like more clarification or topics you would like to explore further in future lectures. Your feedback is valuable in shaping the course for an effective learning journey."
      ],
      "metadata": {
        "id": "eqmHVEwaWhbV"
      }
    },
    {
      "cell_type": "markdown",
      "source": [
        "Write your response here."
      ],
      "metadata": {
        "id": "HlpXOT9wXQAd"
      }
    },
    {
      "cell_type": "code",
      "source": [
        "#The subjects this class covers are really beneficial, and I like how the course design incorporates the best material from the most recent editions.\n",
        "#Referring to Andrew Karpathy's neural networks videos is a tremendous benefit, as he is the best and we will be able to learn from his videos in the future.\n",
        "#Additionally, Jayalamer is the industry leader in LLMs. In his Medium pieces, he did an amazing job of providing insight into Bert and the Transformers.\n",
        "#His articles are enjoyable to me. I can't wait to study the topics you pointed out so I can use them for projects.\n",
        "#It's an introduction to Python in the first two courses, so waiting for the NLP stuff to start. It's great to be in this class."
      ],
      "metadata": {
        "id": "Dq2aOZU7XIke"
      },
      "execution_count": 37,
      "outputs": []
    }
  ],
  "metadata": {
    "colab": {
      "provenance": [],
      "include_colab_link": true
    },
    "kernelspec": {
      "display_name": "Python 3 (ipykernel)",
      "language": "python",
      "name": "python3"
    },
    "language_info": {
      "codemirror_mode": {
        "name": "ipython",
        "version": 3
      },
      "file_extension": ".py",
      "mimetype": "text/x-python",
      "name": "python",
      "nbconvert_exporter": "python",
      "pygments_lexer": "ipython3",
      "version": "3.9.12"
    }
  },
  "nbformat": 4,
  "nbformat_minor": 0
}